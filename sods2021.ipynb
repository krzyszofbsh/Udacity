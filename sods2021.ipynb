{
 "cells": [
  {
   "cell_type": "code",
   "execution_count": 2,
   "metadata": {},
   "outputs": [],
   "source": [
    "import numpy as np\n",
    "import pandas as pd\n",
    "import matplotlib.pyplot as plt\n",
    "\n",
    "df = pd.read_csv('d:/plikiPython/DS/test1ds/survey_results_public_2021.csv')\n",
    "schema = pd.read_csv('d:/plikiPython/DS/survey_results_schema.csv')\n"
   ]
  },
  {
   "attachments": {},
   "cell_type": "markdown",
   "metadata": {},
   "source": [
    "View at data and clean:"
   ]
  },
  {
   "cell_type": "code",
   "execution_count": null,
   "metadata": {},
   "outputs": [],
   "source": [
    "print('\\n df.head: \\n', df.head() ) \n",
    "print('\\n df.tail: \\n',df.tail(5))\n",
    "print ('\\n df.shape: \\n', df.shape)\n",
    "print('\\n df.columns: \\n', list (df.columns), '\\n \\n amount of columns: ', len( list(df.columns) ), '\\n' )\n",
    "\n",
    "df1 = df.iloc[:,-5:] \n",
    "print('\\n last 5 coumns with aswers : \\n',df1.head())\n",
    "\n",
    "df = df.drop(['ResponseId','ConvertedCompYearly'], axis =1)"
   ]
  },
  {
   "attachments": {},
   "cell_type": "markdown",
   "metadata": {},
   "source": [
    "Questions to be answerd:\n",
    "\n",
    "1) Is file with results of survey uderstandable ? \n",
    "2) To which questions we have less answers and to which we have more ?\n",
    "3) Who mostly/always avoid answering ?\n",
    "4) Who mostly/always answered  ?\n",
    "5) Does your opinion about survey lenght influents amount of NaNs  ?"
   ]
  },
  {
   "attachments": {},
   "cell_type": "markdown",
   "metadata": {},
   "source": [
    "#### Answers"
   ]
  },
  {
   "attachments": {},
   "cell_type": "markdown",
   "metadata": {},
   "source": [
    "1) Is file with results of survey uderstandable ? "
   ]
  },
  {
   "cell_type": "code",
   "execution_count": null,
   "metadata": {},
   "outputs": [],
   "source": [
    "def get_description(value_name, template):\n",
    "    '''\n",
    "    INPUT - template - pandas dataframe with the schema of the developers survey\n",
    "            value_name - string - value for which you would like to know about description\n",
    "    OUTPUT - \n",
    "            desc - string - the description of the value_name\n",
    "    '''\n",
    "    \n",
    "    if value_name in template['qname'].values.tolist():\n",
    "        desc = list(template[template['qname'] == value_name]['question'])[0]\n",
    "    else :\n",
    "        desc = np.nan #'NOT IN QUESTION LIST'  \n",
    "\n",
    "    return desc\n",
    "\n",
    "\n",
    "#check if all colums in aswer file are possible to be described:\n",
    "column_names = pd.DataFrame( df.columns.values.tolist(), columns = ['col_name'] ) # data frame of column names with description\n",
    "# print('\\n answer column names: \\n', column_names, column_names.shape)\n",
    "\n",
    "descrips = pd.DataFrame(get_description(col,schema) for col in column_names['col_name']) #descriptions of column names \n",
    "# print(\"\\n \\n answer column desription : \\n \\n\", descrips)\n",
    "\n",
    "# horizontal_stack = pd.concat([survey_sub, survey_sub_last10], axis=1)\n",
    "column_names_desc = pd.concat([column_names,descrips],axis=1)  # data frame of column names with description\n",
    "columnNames = ['qname','question']\n",
    "column_names_desc.columns=columnNames\n",
    "\n",
    "# print('\\n \\ncolumn_names_desc  :\\n',column_names_desc )\n",
    "\n",
    "print('\\n PERCENTAGE OF COLUMNS WITHOUT DESCRIPTION: ', \"%.2f\" % column_names_desc['question'].isnull().mean())  # percentage of columns without description\n",
    "print('\\n list of columns without description:: \\n', column_names[column_names_desc.isna().any(axis=1)])\n",
    "\n",
    "# to add column descritption if missing\n",
    "column_names_desc.loc[column_names_desc['qname'] == 'LanguageHaveWorkedWith', 'question'] = 'Language you have worked with'\n",
    "column_names_desc.loc[column_names_desc['qname'] == 'LanguageWantToWorkWith', 'question'] = 'Language you want to work with'\n",
    "column_names_desc.loc[column_names_desc['qname'] == 'DatabaseHaveWorkedWith', 'question'] = 'Database you have worked with'\n",
    "column_names_desc.loc[column_names_desc['qname'] == 'DatabaseWantToWorkWith', 'question'] = 'Database you want to work with'\n",
    "column_names_desc.loc[column_names_desc['qname'] == 'PlatformHaveWorkedWith', 'question'] = 'Cloud platforms you have worked with'\n",
    "column_names_desc.loc[column_names_desc['qname'] == 'PlatformWantToWorkWith', 'question'] = 'Cloud platforms you want to work with'\n",
    "column_names_desc.loc[column_names_desc['qname'] == 'WebframeHaveWorkedWith', 'question'] = 'Web frameworks you have worked with'\n",
    "column_names_desc.loc[column_names_desc['qname'] == 'WebframeWantToWorkWith', 'question'] = 'Web frameworks you want to work with'\n",
    "column_names_desc.loc[column_names_desc['qname'] == 'MiscTechHaveWorkedWith', 'question'] = 'Frameworks and libraries you have done extensive development'\n",
    "column_names_desc.loc[column_names_desc['qname'] == 'MiscTechWantToWorkWith', 'question'] = 'Frameworks and libraries you wnant to work with'\n",
    "column_names_desc.loc[column_names_desc['qname'] == 'ToolsTechHaveWorkedWith', 'question'] = 'Tools you have done extensive development work'\n",
    "column_names_desc.loc[column_names_desc['qname'] == 'ToolsTechWantToWorkWith', 'question'] = 'Tools you wnant to work with'\n",
    "column_names_desc.loc[column_names_desc['qname'] == 'NEWCollabToolsHaveWorkedWith', 'question'] = 'Development environments which did you use regularly over the past year'\n",
    "column_names_desc.loc[column_names_desc['qname'] == 'NEWCollabToolsWantToWorkWith', 'question'] = 'Development environments which you want to use next year'\n",
    "column_names_desc.loc[column_names_desc['qname'] == 'ConvertedCompYearly', 'question'] = 'Converted year'\n",
    "\n",
    "# print(column_names_desc.head())"
   ]
  },
  {
   "attachments": {},
   "cell_type": "markdown",
   "metadata": {},
   "source": [
    "2) To which questions we have less answers and to which we have more ?"
   ]
  },
  {
   "cell_type": "code",
   "execution_count": null,
   "metadata": {},
   "outputs": [],
   "source": [
    "# The proportion of missing values in columns\n",
    "NaN_perc = pd.DataFrame(df.isnull().mean().sort_values(ascending=False))\n",
    "NaN_perc.reset_index(inplace=True)\n",
    "columnNames1 = ['qname','value']\n",
    "NaN_perc.columns=columnNames1\n",
    "\n",
    "descrips1 = pd.DataFrame(get_description(col,column_names_desc) for col in NaN_perc['qname']) #descriptions of column names \n",
    "\n",
    "NaN_perc_desc = pd.concat([NaN_perc,descrips1],axis=1)  # data frame of column names with description\n",
    "columnNames2 = ['qname','perc of NaNs','question']\n",
    "NaN_perc_desc.columns = columnNames2\n",
    "# print('\\n percentage of mising answers in each column: \\n', NaN_perc_desc)\n",
    "\n",
    "print('\\n MISSING VALUES IN COLUMNS: \\n' ) \n",
    "\n",
    "print('\\n COLUMNS WITH TOP MISSING VALUES: \\n' ) \n",
    "print(NaN_perc_desc.head(10))\n",
    "\n",
    "print('\\n COLUMNS WITH LEAST MISSING VALUES: \\n' ) \n",
    "print(NaN_perc_desc.tail(10))\n",
    "\n",
    "plt.title('COLUMNS WITH TOP MISSING VALUES')\n",
    "plt.xlabel('question')\n",
    "plt.xticks(rotation=45, ha='right',fontsize = 9,wrap=True )\n",
    "plt.ylabel('perc of NaN')\n",
    "plt.plot(NaN_perc_desc['question'][:5],NaN_perc_desc['perc of NaNs'][:5],'ro')\n",
    "current_values = plt.gca().get_yticks()\n",
    "# plt.gca().set_yticklabels(['{:,.2f}'.format(x) for x in current_values])\n",
    "plt.gca().set_yticklabels(['{:,.1%}'.format(x) for x in current_values])\n",
    "plt.subplots_adjust(bottom=0.35)\n",
    "plt.show()\n",
    "\n",
    "plt.title('COLUMNS WITH LEAST MISSING VALUES')\n",
    "plt.xlabel('question')\n",
    "plt.xticks(rotation=45, ha='right',fontsize = 9,wrap=True )\n",
    "plt.ylabel('perc of NaN')\n",
    "plt.plot(NaN_perc_desc['question'][-5:],NaN_perc_desc['perc of NaNs'][-5:],'go')\n",
    "current_values = plt.gca().get_yticks()\n",
    "# plt.gca().set_yticklabels(['{:,.3f}'.format(x) for x in current_values])\n",
    "plt.gca().set_yticklabels(['{:,.2%}'.format(x) for x in current_values])\n",
    "plt.subplots_adjust(bottom=0.35)\n",
    "plt.show()\n"
   ]
  },
  {
   "attachments": {},
   "cell_type": "markdown",
   "metadata": {},
   "source": [
    "3. Who mostly/always avoid answering?\n",
    "4. Who mostly/always answered?"
   ]
  },
  {
   "cell_type": "code",
   "execution_count": null,
   "metadata": {},
   "outputs": [],
   "source": [
    "#how many NaN and not_NaN in rows of aswer data frame:\n",
    "nan_in_row = df.isnull().sum(axis=1)\n",
    "not_nan_in_row = df.notna().sum(axis=1)\n",
    "\n",
    "prof_nans = pd.concat([df['MainBranch'],nan_in_row,not_nan_in_row],axis=1) # data frame of proffesions and NaN/not_NaN in rows\n",
    "columnNames3 = ['proffesion','NaNs_count','not_NaNs_count']\n",
    "prof_nans.columns=columnNames3\n",
    "\n",
    "prof_nans_df = pd.DataFrame( prof_nans.groupby('proffesion').sum()['NaNs_count'] ) # percentage of aswers missed gouped by proffesion:\n",
    "\n",
    "for i in range (prof_nans.groupby('proffesion').sum()['NaNs_count'].shape[0]):  # calculate percetage for each row\n",
    "    prof_nans_df.loc[prof_nans_df.index[i],'perc_of_NaN'] = (prof_nans.groupby('proffesion').sum()['NaNs_count'][i] / prof_nans.groupby('proffesion').sum()['not_NaNs_count'][i])\n",
    "\n",
    "print('\\n PERCENTAGE OF ANSWERS MISSED, GROUPED BY PROFFESION :\\n',prof_nans_df.sort_values(by='perc_of_NaN', ascending=False))\n",
    "\n",
    "prof_nans_df.reset_index(inplace=True)\n",
    "\n",
    "plt.title('PERCENTAGE OF ANSWERS MISSED, GROUPED BY PROFFESION')\n",
    "plt.xlabel('proffesion')\n",
    "plt.xticks(rotation=45, ha='right',fontsize = 9,wrap=True ) \n",
    "plt.ylabel('perc of NaN')\n",
    "plt.plot(prof_nans_df.sort_values(by='perc_of_NaN', ascending=False)['proffesion'],prof_nans_df.sort_values(by='perc_of_NaN', ascending=False)['perc_of_NaN'],'b^')\n",
    "current_values = plt.gca().get_yticks()\n",
    "plt.gca().set_yticklabels(['{:,.1%}'.format(x) for x in current_values])\n",
    "plt.subplots_adjust(bottom=0.35)\n",
    "\n",
    "plt.show()"
   ]
  },
  {
   "attachments": {},
   "cell_type": "markdown",
   "metadata": {},
   "source": [
    "5. Does your opinion about survey influents amount of NaNs?"
   ]
  },
  {
   "cell_type": "code",
   "execution_count": null,
   "metadata": {},
   "outputs": [],
   "source": [
    "\n",
    "surv_opinion = pd.concat([df['SurveyLength'],nan_in_row,not_nan_in_row],axis=1) # data frame of proffesions and opinions about survey\n",
    "columnNames4 = ['SurveyLength','NaNs_count','not_NaNs_count']\n",
    "surv_opinion.columns=columnNames4\n",
    "\n",
    "surv_opinion_df = pd.DataFrame( surv_opinion.groupby('SurveyLength').sum()['NaNs_count'] ) # percentage of aswers missed grouped by opinions about survey\n",
    "\n",
    "for i in range (surv_opinion.groupby('SurveyLength').sum()['NaNs_count'].shape[0]):  # calculate percetage for each row\n",
    "    surv_opinion_df.loc[surv_opinion_df.index[i],'perc_of_NaN'] = (surv_opinion.groupby('SurveyLength').sum()['NaNs_count'][i] / surv_opinion.groupby('SurveyLength').sum()['not_NaNs_count'][i])\n",
    "\n",
    "print('\\n PERCENTAGE OF ANSWERS MISSED, GROUPED BY OPINION ABOUT SURVEY :\\n', surv_opinion_df.sort_values(by='perc_of_NaN', ascending=False))\n",
    "\n",
    "surv_opinion_df.reset_index(inplace=True)\n",
    "print(surv_opinion_df)\n",
    "\n",
    "\n",
    "plt.title('PERCENTAGE OF ANSWERS MISSED, GROUPED BY OPINION ABOUT SURVEY')\n",
    "plt.xlabel('Survey Length')\n",
    "plt.ylabel('perc of NaN')\n",
    "plt.plot(surv_opinion_df.sort_values(by='perc_of_NaN', ascending=False)['SurveyLength'],surv_opinion_df.sort_values(by='perc_of_NaN', ascending=False)['perc_of_NaN'],'bs')\n",
    "current_values = plt.gca().get_yticks()\n",
    "plt.gca().set_yticklabels(['{:,.1%}'.format(x) for x in current_values])\n",
    "\n",
    "plt.show()"
   ]
  }
 ],
 "metadata": {
  "kernelspec": {
   "display_name": "Python 3",
   "language": "python",
   "name": "python3"
  },
  "language_info": {
   "codemirror_mode": {
    "name": "ipython",
    "version": 3
   },
   "file_extension": ".py",
   "mimetype": "text/x-python",
   "name": "python",
   "nbconvert_exporter": "python",
   "pygments_lexer": "ipython3",
   "version": "3.10.7"
  },
  "orig_nbformat": 4,
  "vscode": {
   "interpreter": {
    "hash": "1fa163922eb0b3709bbb5d8082b2465c9de796dbaacca80cbaa600e7fff3e4fe"
   }
  }
 },
 "nbformat": 4,
 "nbformat_minor": 2
}
